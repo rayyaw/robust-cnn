{
  "cells": [
    {
      "cell_type": "markdown",
      "metadata": {
        "id": "F2cK6b9bfNlb"
      },
      "source": [
        "# Adversarial training for machine learning models\n",
        "\n",
        "## Background\n",
        "\n",
        "With the prevalence of machine learning models, it is becoming increasingly important to ensure that they are not vulnerable to adversarial attacks. We will study methods to create and defend against such attacks on machine learning models.\n",
        "\n",
        "## Basic model\n",
        "We will begin by training a traditional CNN on the CIFAR-10 dataset."
      ]
    },
    {
      "cell_type": "code",
      "execution_count": 1,
      "metadata": {
        "id": "MCG4Fw3ke30f"
      },
      "outputs": [],
      "source": [
        "from PIL import Image\n",
        "from tqdm import tqdm\n",
        "import torch\n",
        "import torch.nn as nn\n",
        "from torch.utils.data import Dataset, DataLoader\n",
        "import torchvision\n",
        "from torchvision.models import resnet18\n",
        "from torchvision import transforms as T\n",
        "import matplotlib.pyplot as plt"
      ]
    },
    {
      "cell_type": "code",
      "execution_count": 9,
      "metadata": {
        "colab": {
          "base_uri": "https://localhost:8080/"
        },
        "id": "ZQ-H1u54gHYp",
        "outputId": "4167298a-6e35-4f1a-abc9-810e16222428"
      },
      "outputs": [
        {
          "output_type": "stream",
          "name": "stdout",
          "text": [
            "Files already downloaded and verified\n",
            "Files already downloaded and verified\n",
            "Image batch shape: torch.Size([64, 3, 32, 32])\n",
            "Label batch shape: torch.Size([64])\n"
          ]
        }
      ],
      "source": [
        "# Load datasets\n",
        "cifar_10_train = torchvision.datasets.CIFAR10(\"CIFAR10\", train=True, transform=T.ToTensor(), download=True)\n",
        "cifar_10_test = torchvision.datasets.CIFAR10(\"CIFAR10\", train=False, transform=T.ToTensor(), download=True)\n",
        "\n",
        "batch_size = 64\n",
        "train_loader = DataLoader(cifar_10_train, batch_size=batch_size, shuffle=True)\n",
        "valid_loader = DataLoader(cifar_10_test, batch_size=batch_size, shuffle=False)\n",
        "sample_img, sample_lbl = next(iter(train_loader))\n",
        "print(f\"Image batch shape: {sample_img.size()}\")\n",
        "print(f\"Label batch shape: {sample_lbl.size()}\")\n",
        "\n",
        "transform = T.Compose(\n",
        "    [\n",
        "        # Exact transforms used were suggested by ChatGPT\n",
        "        T.ToTensor(),\n",
        "        T.RandomHorizontalFlip(),\n",
        "        T.RandomCrop(32, padding=4),\n",
        "        T.ColorJitter(brightness=0.2, contrast=0.2, saturation=0.2, hue=0.2),\n",
        "    ]\n",
        ")\n",
        "\n",
        "cifar_10_train = torchvision.datasets.CIFAR10(\"CIFAR10\", train=True, transform=transform)\n",
        "\n",
        "batch_size = 64\n",
        "train_loader_augmented = DataLoader(cifar_10_train, batch_size=batch_size, shuffle=True)\n",
        "\n",
        "# Load CUDA and CPU\n",
        "device = 'cuda' if torch.cuda.is_available() else 'cpu'\n",
        "cpu_device = 'cpu'"
      ]
    },
    {
      "cell_type": "code",
      "execution_count": 3,
      "metadata": {
        "id": "MFlFoDuOgypP"
      },
      "outputs": [],
      "source": [
        "class CNN(nn.Module):\n",
        "  def __init__(self):\n",
        "    super().__init__()\n",
        "    self.nn = nn.Sequential(\n",
        "      # use 2 convolution layers and 4 linear layers\n",
        "      nn.Conv2d(3, 16, 5),\n",
        "      nn.MaxPool2d(2, stride=2),\n",
        "\n",
        "      nn.Conv2d(16, 64, 3),\n",
        "      nn.MaxPool2d(2, stride=2),\n",
        "\n",
        "      nn.Flatten(),\n",
        "\n",
        "      nn.Linear(2304, 256),\n",
        "      nn.ReLU(),\n",
        "\n",
        "      nn.Linear(256, 256),\n",
        "      nn.ReLU(),\n",
        "\n",
        "      nn.Linear(256, 100),\n",
        "      nn.ReLU(),\n",
        "\n",
        "      nn.Linear(100, 10),\n",
        "      nn.ReLU(),\n",
        "    )\n",
        "\n",
        "  def forward(self, x):\n",
        "    return self.nn.forward(x)"
      ]
    },
    {
      "cell_type": "code",
      "execution_count": 4,
      "metadata": {
        "id": "so_Td_uFi78u"
      },
      "outputs": [],
      "source": [
        "def evaluate(model, data_loader):\n",
        "    \"\"\"Evaluate the model on the given dataset.\"\"\"\n",
        "    # Set the model to evaluation mode.\n",
        "    model.eval()\n",
        "    correct = 0\n",
        "    # The `torch.no_grad()` context will turn off gradients for efficiency.\n",
        "    with torch.no_grad():\n",
        "        for images, labels in tqdm(data_loader):\n",
        "            images, labels = images.to(device), labels.to(device)\n",
        "            output = model(images)\n",
        "            pred = output.argmax(dim=1)\n",
        "            correct += (pred == labels).sum().item()\n",
        "    return correct / len(data_loader.dataset)\n",
        "\n",
        "def train(model, n_epoch, optimizer, scheduler, augment=False, attack_fn=None, eps=0.01):\n",
        "    \"\"\"Train the model on the given dataset.\"\"\"\n",
        "    loss_fn = nn.CrossEntropyLoss()\n",
        "\n",
        "    loader = train_loader\n",
        "    if augment:\n",
        "      loader = train_loader_augmented\n",
        "\n",
        "    for epoch in range(n_epoch):\n",
        "        # Set the model to training mode.\n",
        "        model.train()\n",
        "        for step, (images, labels) in enumerate(loader):\n",
        "            # 0. Prepare the data. Move the data to the device (CPU/GPU).\n",
        "            images, labels = images.to(device), labels.to(device)\n",
        "            # 1. Clear previous gradients.\n",
        "            optimizer.zero_grad()\n",
        "\n",
        "            # Train with defense against adversarial attacks\n",
        "            # You can ignore this for now, it will be explained later in the notebook\n",
        "            if attack_fn is not None:\n",
        "                # Loss on the FGSM/PGD example\n",
        "                model.eval()\n",
        "                images = attack_fn(model, images, labels, eps, False)\n",
        "                model.train()\n",
        "\n",
        "            # 2. Forward pass. Calculate the output of the model.\n",
        "            output = model(images)\n",
        "            # 3. Calculate the loss.\n",
        "            loss = loss_fn(output, labels)\n",
        "            # 4. Calculate the gradients. PyTorch does this for us!\n",
        "            loss.backward()\n",
        "            # 5. Update the model parameters.\n",
        "            optimizer.step()\n",
        "            if step % 700 == 0:\n",
        "                print(f\"Epoch {epoch}, Step {step}, Loss {loss.item():.4f}\")\n",
        "        # 6. (Optional) Update the learning rate.\n",
        "        scheduler.step()\n",
        "        acc = evaluate(model, valid_loader)\n",
        "        print(f\"Epoch {epoch}, Valid Accuracy {acc * 100:.2f}%\")\n",
        "\n",
        "        acc = evaluate(model, train_loader)\n",
        "        print(f\"Epoch {epoch}, Train Accuracy {acc * 100:.2f}%\")"
      ]
    },
    {
      "cell_type": "code",
      "execution_count": null,
      "metadata": {
        "colab": {
          "base_uri": "https://localhost:8080/"
        },
        "id": "GNc1Sa51h4lK",
        "outputId": "2412221b-d85c-451f-decb-f322f84f2f3a"
      },
      "outputs": [
        {
          "output_type": "stream",
          "name": "stdout",
          "text": [
            "Epoch 0, Step 0, Loss 2.3021\n",
            "Epoch 0, Step 700, Loss 1.3658\n"
          ]
        },
        {
          "output_type": "stream",
          "name": "stderr",
          "text": [
            "100%|██████████| 157/157 [00:01<00:00, 92.65it/s]\n"
          ]
        },
        {
          "output_type": "stream",
          "name": "stdout",
          "text": [
            "Epoch 0, Valid Accuracy 52.08%\n"
          ]
        },
        {
          "output_type": "stream",
          "name": "stderr",
          "text": [
            "100%|██████████| 782/782 [00:08<00:00, 95.88it/s] \n"
          ]
        },
        {
          "output_type": "stream",
          "name": "stdout",
          "text": [
            "Epoch 0, Train Accuracy 54.27%\n",
            "Epoch 1, Step 0, Loss 1.3532\n",
            "Epoch 1, Step 700, Loss 1.0717\n"
          ]
        },
        {
          "output_type": "stream",
          "name": "stderr",
          "text": [
            "100%|██████████| 157/157 [00:01<00:00, 107.63it/s]\n"
          ]
        },
        {
          "output_type": "stream",
          "name": "stdout",
          "text": [
            "Epoch 1, Valid Accuracy 58.19%\n"
          ]
        },
        {
          "output_type": "stream",
          "name": "stderr",
          "text": [
            "100%|██████████| 782/782 [00:07<00:00, 107.33it/s]\n"
          ]
        },
        {
          "output_type": "stream",
          "name": "stdout",
          "text": [
            "Epoch 1, Train Accuracy 62.83%\n",
            "Epoch 2, Step 0, Loss 1.1432\n",
            "Epoch 2, Step 700, Loss 1.1899\n"
          ]
        },
        {
          "output_type": "stream",
          "name": "stderr",
          "text": [
            "100%|██████████| 157/157 [00:01<00:00, 107.76it/s]\n"
          ]
        },
        {
          "output_type": "stream",
          "name": "stdout",
          "text": [
            "Epoch 2, Valid Accuracy 60.42%\n"
          ]
        },
        {
          "output_type": "stream",
          "name": "stderr",
          "text": [
            "100%|██████████| 782/782 [00:08<00:00, 93.53it/s] \n"
          ]
        },
        {
          "output_type": "stream",
          "name": "stdout",
          "text": [
            "Epoch 2, Train Accuracy 67.86%\n",
            "Epoch 3, Step 0, Loss 0.7600\n",
            "Epoch 3, Step 700, Loss 1.0916\n"
          ]
        },
        {
          "output_type": "stream",
          "name": "stderr",
          "text": [
            "100%|██████████| 157/157 [00:01<00:00, 86.79it/s]\n"
          ]
        },
        {
          "output_type": "stream",
          "name": "stdout",
          "text": [
            "Epoch 3, Valid Accuracy 62.76%\n"
          ]
        },
        {
          "output_type": "stream",
          "name": "stderr",
          "text": [
            "100%|██████████| 782/782 [00:07<00:00, 98.52it/s] \n"
          ]
        },
        {
          "output_type": "stream",
          "name": "stdout",
          "text": [
            "Epoch 3, Train Accuracy 72.92%\n",
            "Epoch 4, Step 0, Loss 0.5645\n",
            "Epoch 4, Step 700, Loss 0.7468\n"
          ]
        },
        {
          "output_type": "stream",
          "name": "stderr",
          "text": [
            "100%|██████████| 157/157 [00:01<00:00, 105.90it/s]\n"
          ]
        },
        {
          "output_type": "stream",
          "name": "stdout",
          "text": [
            "Epoch 4, Valid Accuracy 63.05%\n"
          ]
        },
        {
          "output_type": "stream",
          "name": "stderr",
          "text": [
            "100%|██████████| 782/782 [00:07<00:00, 105.15it/s]\n"
          ]
        },
        {
          "output_type": "stream",
          "name": "stdout",
          "text": [
            "Epoch 4, Train Accuracy 76.67%\n",
            "Epoch 5, Step 0, Loss 0.8476\n",
            "Epoch 5, Step 700, Loss 0.6173\n"
          ]
        },
        {
          "output_type": "stream",
          "name": "stderr",
          "text": [
            "100%|██████████| 157/157 [00:01<00:00, 105.46it/s]\n"
          ]
        },
        {
          "output_type": "stream",
          "name": "stdout",
          "text": [
            "Epoch 5, Valid Accuracy 63.06%\n"
          ]
        },
        {
          "output_type": "stream",
          "name": "stderr",
          "text": [
            "100%|██████████| 782/782 [00:08<00:00, 93.92it/s] \n"
          ]
        },
        {
          "output_type": "stream",
          "name": "stdout",
          "text": [
            "Epoch 5, Train Accuracy 79.23%\n",
            "Epoch 6, Step 0, Loss 0.6354\n",
            "Epoch 6, Step 700, Loss 0.4523\n"
          ]
        },
        {
          "output_type": "stream",
          "name": "stderr",
          "text": [
            "100%|██████████| 157/157 [00:02<00:00, 75.26it/s]\n"
          ]
        },
        {
          "output_type": "stream",
          "name": "stdout",
          "text": [
            "Epoch 6, Valid Accuracy 62.94%\n"
          ]
        },
        {
          "output_type": "stream",
          "name": "stderr",
          "text": [
            "100%|██████████| 782/782 [00:07<00:00, 102.60it/s]\n"
          ]
        },
        {
          "output_type": "stream",
          "name": "stdout",
          "text": [
            "Epoch 6, Train Accuracy 82.31%\n",
            "Epoch 7, Step 0, Loss 0.4217\n",
            "Epoch 7, Step 700, Loss 0.4207\n"
          ]
        },
        {
          "output_type": "stream",
          "name": "stderr",
          "text": [
            "100%|██████████| 157/157 [00:01<00:00, 109.22it/s]\n"
          ]
        },
        {
          "output_type": "stream",
          "name": "stdout",
          "text": [
            "Epoch 7, Valid Accuracy 63.31%\n"
          ]
        },
        {
          "output_type": "stream",
          "name": "stderr",
          "text": [
            "100%|██████████| 782/782 [00:07<00:00, 100.97it/s]\n"
          ]
        },
        {
          "output_type": "stream",
          "name": "stdout",
          "text": [
            "Epoch 7, Train Accuracy 84.55%\n",
            "Epoch 8, Step 0, Loss 0.4740\n",
            "Epoch 8, Step 700, Loss 0.3455\n"
          ]
        },
        {
          "output_type": "stream",
          "name": "stderr",
          "text": [
            "100%|██████████| 157/157 [00:01<00:00, 109.08it/s]\n"
          ]
        },
        {
          "output_type": "stream",
          "name": "stdout",
          "text": [
            "Epoch 8, Valid Accuracy 62.91%\n"
          ]
        },
        {
          "output_type": "stream",
          "name": "stderr",
          "text": [
            "100%|██████████| 782/782 [00:08<00:00, 93.75it/s] \n"
          ]
        },
        {
          "output_type": "stream",
          "name": "stdout",
          "text": [
            "Epoch 8, Train Accuracy 85.93%\n",
            "Epoch 9, Step 0, Loss 0.3670\n",
            "Epoch 9, Step 700, Loss 0.2598\n"
          ]
        },
        {
          "output_type": "stream",
          "name": "stderr",
          "text": [
            "100%|██████████| 157/157 [00:02<00:00, 77.18it/s]\n"
          ]
        },
        {
          "output_type": "stream",
          "name": "stdout",
          "text": [
            "Epoch 9, Valid Accuracy 62.36%\n"
          ]
        },
        {
          "output_type": "stream",
          "name": "stderr",
          "text": [
            "100%|██████████| 782/782 [00:07<00:00, 106.74it/s]"
          ]
        },
        {
          "output_type": "stream",
          "name": "stdout",
          "text": [
            "Epoch 9, Train Accuracy 86.42%\n"
          ]
        },
        {
          "output_type": "stream",
          "name": "stderr",
          "text": [
            "\n"
          ]
        }
      ],
      "source": [
        "# setup and train the neural network\n",
        "model_normal = CNN().to(device)\n",
        "\n",
        "lr = 1e-3\n",
        "gamma = 0.9\n",
        "num_epoch = 10\n",
        "\n",
        "optimizer = torch.optim.Adam(model_normal.parameters(), lr=lr)\n",
        "scheduler = torch.optim.lr_scheduler.StepLR(optimizer, step_size=1, gamma=gamma)\n",
        "\n",
        "train(model_normal, num_epoch, optimizer, scheduler)"
      ]
    },
    {
      "cell_type": "markdown",
      "metadata": {
        "id": "bVAPVciRqldx"
      },
      "source": [
        "This model achieves 60% accuracy on the validation set and 90% accuracy on the training set. We will now attempt to attack the model using several different techniques.\n",
        "\n",
        "## Methodology\n",
        "We will apply a transformation to each image in the training set, and determine whether the transformed image has the same class as the original.\n",
        "\n",
        "We begin with adding noise to the image (pixel modifications with a maxiumum $L_\\infty$ norm of $\\epsilon$) as our transformation.\n",
        "\n",
        "The first technique to explore is called FGSM (Fast Gradient Sign Method) and works by taking one step in the direction of the positive gradient from the image (ie, moving in the direction of least confidence for the classifier)."
      ]
    },
    {
      "cell_type": "code",
      "execution_count": 5,
      "metadata": {
        "id": "5NF5psN8sCOG"
      },
      "outputs": [],
      "source": [
        "# The last argument 'targeted' can be used to toggle between a targeted and untargeted attack.\n",
        "# A targeted attack is one where we want the classifier to misclassify as a specific class.\n",
        "# If the attack is untargeted, target should be set to the output class of the classifier.\n",
        "def fgsm(model, x, target, eps, targeted=True):\n",
        "    finalout = []\n",
        "    L = nn.CrossEntropyLoss()\n",
        "\n",
        "    x.requires_grad_()\n",
        "    loss = L(model(x), target.clone().detach())\n",
        "    loss.backward()\n",
        "\n",
        "    # take the largest possible step in the direction of the gradient\n",
        "    finalout = torch.sign(x.grad)\n",
        "\n",
        "    if targeted:\n",
        "        finalout *= -1\n",
        "\n",
        "    return (x + (eps * finalout)).detach()"
      ]
    },
    {
      "cell_type": "markdown",
      "metadata": {
        "id": "C1g6dYnlttEv"
      },
      "source": [
        "We now analyze the model's accuracy on a version of the training set perturbed by FGSM. We will use an untargeted attack to get the largest effect possible."
      ]
    },
    {
      "cell_type": "code",
      "execution_count": 6,
      "metadata": {
        "id": "e5qO-BGht5Pr"
      },
      "outputs": [],
      "source": [
        "def evaluate_adversarial_attack(model_normal, attack_fn, eps):\n",
        "  image_count = 0\n",
        "  correct_count = 0\n",
        "\n",
        "  model_normal.eval()\n",
        "  model_normal = model_normal.to(device)\n",
        "\n",
        "  for step, (images, labels) in enumerate(train_loader):\n",
        "      # 0. Prepare the data. Move the data to the device (CPU/GPU).\n",
        "      images, labels = images.to(device), labels.to(device)\n",
        "      # 1. Clear previous gradients.\n",
        "      optimizer.zero_grad()\n",
        "      # Take a step away from the correct label rather than away from the predicted label.\n",
        "      perturbed_input = attack_fn(model_normal, images, labels, eps, False)\n",
        "\n",
        "      output = model_normal(perturbed_input)\n",
        "      pred = output.argmax(dim=1)\n",
        "      correct_count += (pred == labels).sum().item()\n",
        "      image_count += len(perturbed_input)\n",
        "\n",
        "  print(\"Adversarial robustness: \", correct_count / image_count)"
      ]
    },
    {
      "cell_type": "code",
      "execution_count": null,
      "metadata": {
        "colab": {
          "base_uri": "https://localhost:8080/"
        },
        "id": "xa-ZsVlk0jd5",
        "outputId": "da0f28d3-af71-4c06-a921-4d88029bdcc6"
      },
      "outputs": [
        {
          "output_type": "stream",
          "name": "stdout",
          "text": [
            "Adversarial robustness:  0.2926\n"
          ]
        }
      ],
      "source": [
        "evaluate_adversarial_attack(model_normal, fgsm, eps=0.01)"
      ]
    },
    {
      "cell_type": "markdown",
      "metadata": {
        "id": "GuLFhfcaxdc_"
      },
      "source": [
        "As we can see, FGSM has a drastic effect on the accuracy, reducing it to only 29%. A 1% change in the pixel value corresponds to an RGB color change of 2.55 units, which should be impossible for a human to see with the naked eye.\n",
        "\n",
        "I also tested a 3% change, which corresponds to a 7.5 pixel value change. With this, I was able to get the robustness down to 5%, but some humans might be able to spot this, and I was unable to train an accurate robust model with it. As such, we will continue using the 1% threshold for the rest of the notebook.\n",
        "\n",
        "Next, we will rerun the attack on the same model. However, this time we will use the PyTorch data augmentation feature to train our model. Our goal is to see if using data augmentation can help our model become more resistant to the FGSM attack."
      ]
    },
    {
      "cell_type": "code",
      "execution_count": 10,
      "metadata": {
        "colab": {
          "base_uri": "https://localhost:8080/"
        },
        "id": "_9P2XB7XjMXa",
        "outputId": "600ab391-24a6-4ad1-bbfa-8a791d6d4d3e"
      },
      "outputs": [
        {
          "output_type": "stream",
          "name": "stdout",
          "text": [
            "Epoch 0, Step 0, Loss 2.3044\n",
            "Epoch 0, Step 700, Loss 1.5425\n"
          ]
        },
        {
          "output_type": "stream",
          "name": "stderr",
          "text": [
            "100%|██████████| 157/157 [00:01<00:00, 102.21it/s]\n"
          ]
        },
        {
          "output_type": "stream",
          "name": "stdout",
          "text": [
            "Epoch 0, Valid Accuracy 46.15%\n"
          ]
        },
        {
          "output_type": "stream",
          "name": "stderr",
          "text": [
            "100%|██████████| 782/782 [00:08<00:00, 89.78it/s] \n"
          ]
        },
        {
          "output_type": "stream",
          "name": "stdout",
          "text": [
            "Epoch 0, Train Accuracy 46.85%\n",
            "Epoch 1, Step 0, Loss 1.6362\n",
            "Epoch 1, Step 700, Loss 1.5400\n"
          ]
        },
        {
          "output_type": "stream",
          "name": "stderr",
          "text": [
            "100%|██████████| 157/157 [00:01<00:00, 104.18it/s]\n"
          ]
        },
        {
          "output_type": "stream",
          "name": "stdout",
          "text": [
            "Epoch 1, Valid Accuracy 51.48%\n"
          ]
        },
        {
          "output_type": "stream",
          "name": "stderr",
          "text": [
            "100%|██████████| 782/782 [00:08<00:00, 91.82it/s]\n"
          ]
        },
        {
          "output_type": "stream",
          "name": "stdout",
          "text": [
            "Epoch 1, Train Accuracy 52.00%\n",
            "Epoch 2, Step 0, Loss 1.5104\n",
            "Epoch 2, Step 700, Loss 1.4627\n"
          ]
        },
        {
          "output_type": "stream",
          "name": "stderr",
          "text": [
            "100%|██████████| 157/157 [00:02<00:00, 70.25it/s]\n"
          ]
        },
        {
          "output_type": "stream",
          "name": "stdout",
          "text": [
            "Epoch 2, Valid Accuracy 54.36%\n"
          ]
        },
        {
          "output_type": "stream",
          "name": "stderr",
          "text": [
            "100%|██████████| 782/782 [00:07<00:00, 102.70it/s]\n"
          ]
        },
        {
          "output_type": "stream",
          "name": "stdout",
          "text": [
            "Epoch 2, Train Accuracy 55.52%\n",
            "Epoch 3, Step 0, Loss 1.2779\n",
            "Epoch 3, Step 700, Loss 1.4062\n"
          ]
        },
        {
          "output_type": "stream",
          "name": "stderr",
          "text": [
            "100%|██████████| 157/157 [00:01<00:00, 104.93it/s]\n"
          ]
        },
        {
          "output_type": "stream",
          "name": "stdout",
          "text": [
            "Epoch 3, Valid Accuracy 57.82%\n"
          ]
        },
        {
          "output_type": "stream",
          "name": "stderr",
          "text": [
            "100%|██████████| 782/782 [00:08<00:00, 89.88it/s] \n"
          ]
        },
        {
          "output_type": "stream",
          "name": "stdout",
          "text": [
            "Epoch 3, Train Accuracy 58.89%\n",
            "Epoch 4, Step 0, Loss 1.2912\n",
            "Epoch 4, Step 700, Loss 1.0244\n"
          ]
        },
        {
          "output_type": "stream",
          "name": "stderr",
          "text": [
            "100%|██████████| 157/157 [00:01<00:00, 102.94it/s]\n"
          ]
        },
        {
          "output_type": "stream",
          "name": "stdout",
          "text": [
            "Epoch 4, Valid Accuracy 59.45%\n"
          ]
        },
        {
          "output_type": "stream",
          "name": "stderr",
          "text": [
            "100%|██████████| 782/782 [00:07<00:00, 98.60it/s]\n"
          ]
        },
        {
          "output_type": "stream",
          "name": "stdout",
          "text": [
            "Epoch 4, Train Accuracy 61.34%\n",
            "Epoch 5, Step 0, Loss 1.1272\n",
            "Epoch 5, Step 700, Loss 1.0939\n"
          ]
        },
        {
          "output_type": "stream",
          "name": "stderr",
          "text": [
            "100%|██████████| 157/157 [00:01<00:00, 87.54it/s]\n"
          ]
        },
        {
          "output_type": "stream",
          "name": "stdout",
          "text": [
            "Epoch 5, Valid Accuracy 60.39%\n"
          ]
        },
        {
          "output_type": "stream",
          "name": "stderr",
          "text": [
            "100%|██████████| 782/782 [00:08<00:00, 90.66it/s] \n"
          ]
        },
        {
          "output_type": "stream",
          "name": "stdout",
          "text": [
            "Epoch 5, Train Accuracy 61.92%\n",
            "Epoch 6, Step 0, Loss 1.0809\n",
            "Epoch 6, Step 700, Loss 1.3500\n"
          ]
        },
        {
          "output_type": "stream",
          "name": "stderr",
          "text": [
            "100%|██████████| 157/157 [00:01<00:00, 106.37it/s]\n"
          ]
        },
        {
          "output_type": "stream",
          "name": "stdout",
          "text": [
            "Epoch 6, Valid Accuracy 60.41%\n"
          ]
        },
        {
          "output_type": "stream",
          "name": "stderr",
          "text": [
            "100%|██████████| 782/782 [00:08<00:00, 89.76it/s] \n"
          ]
        },
        {
          "output_type": "stream",
          "name": "stdout",
          "text": [
            "Epoch 6, Train Accuracy 63.09%\n",
            "Epoch 7, Step 0, Loss 1.0595\n",
            "Epoch 7, Step 700, Loss 1.3875\n"
          ]
        },
        {
          "output_type": "stream",
          "name": "stderr",
          "text": [
            "100%|██████████| 157/157 [00:01<00:00, 99.11it/s] \n"
          ]
        },
        {
          "output_type": "stream",
          "name": "stdout",
          "text": [
            "Epoch 7, Valid Accuracy 61.52%\n"
          ]
        },
        {
          "output_type": "stream",
          "name": "stderr",
          "text": [
            "100%|██████████| 782/782 [00:07<00:00, 104.52it/s]\n"
          ]
        },
        {
          "output_type": "stream",
          "name": "stdout",
          "text": [
            "Epoch 7, Train Accuracy 63.67%\n",
            "Epoch 8, Step 0, Loss 1.5299\n",
            "Epoch 8, Step 700, Loss 1.2677\n"
          ]
        },
        {
          "output_type": "stream",
          "name": "stderr",
          "text": [
            "100%|██████████| 157/157 [00:03<00:00, 43.02it/s]\n"
          ]
        },
        {
          "output_type": "stream",
          "name": "stdout",
          "text": [
            "Epoch 8, Valid Accuracy 62.59%\n"
          ]
        },
        {
          "output_type": "stream",
          "name": "stderr",
          "text": [
            "100%|██████████| 782/782 [00:19<00:00, 40.89it/s]\n"
          ]
        },
        {
          "output_type": "stream",
          "name": "stdout",
          "text": [
            "Epoch 8, Train Accuracy 65.35%\n",
            "Epoch 9, Step 0, Loss 1.1150\n",
            "Epoch 9, Step 700, Loss 1.2373\n"
          ]
        },
        {
          "output_type": "stream",
          "name": "stderr",
          "text": [
            "100%|██████████| 157/157 [00:01<00:00, 104.86it/s]\n"
          ]
        },
        {
          "output_type": "stream",
          "name": "stdout",
          "text": [
            "Epoch 9, Valid Accuracy 63.90%\n"
          ]
        },
        {
          "output_type": "stream",
          "name": "stderr",
          "text": [
            "100%|██████████| 782/782 [00:09<00:00, 85.62it/s] \n"
          ]
        },
        {
          "output_type": "stream",
          "name": "stdout",
          "text": [
            "Epoch 9, Train Accuracy 66.38%\n",
            "Adversarial robustness:  0.27896\n"
          ]
        }
      ],
      "source": [
        "model_normal_augmented = CNN().to(device)\n",
        "lr = 1e-3\n",
        "gamma = 0.9\n",
        "num_epoch = 10\n",
        "\n",
        "optimizer = torch.optim.Adam(model_normal_augmented.parameters(), lr=lr)\n",
        "scheduler = torch.optim.lr_scheduler.StepLR(optimizer, step_size=1, gamma=gamma)\n",
        "\n",
        "train(model_normal_augmented, num_epoch, optimizer, scheduler, augment=True)\n",
        "evaluate_adversarial_attack(model_normal_augmented, fgsm, eps=0.01)"
      ]
    },
    {
      "cell_type": "markdown",
      "source": [
        "Let's compare some of the training set images to the adversarial images to see if they look different:"
      ],
      "metadata": {
        "id": "5BUY9YX0Cldq"
      }
    },
    {
      "cell_type": "code",
      "source": [
        "for step, (images, labels) in enumerate(train_loader):\n",
        "      # 0. Prepare the data. Move the data to the device (CPU/GPU).\n",
        "      images, labels = images.to(device), labels.to(device)\n",
        "      # 1. Clear previous gradients.\n",
        "      optimizer.zero_grad()\n",
        "      # Take a step away from the correct label rather than away from the predicted label.\n",
        "      perturbed_input = fgsm(model_normal_augmented, images, labels, 0.01, False)\n",
        "\n",
        "      image_np_original = images[0].permute(1, 2, 0).cpu().detach().numpy()\n",
        "      image_np_perturbed = perturbed_input[0].permute(1, 2, 0).cpu().detach().numpy()\n",
        "\n",
        "      fig, axes = plt.subplots(1, 2, figsize=(10, 5))\n",
        "      axes[0].imshow(image_np_original)\n",
        "      axes[0].axis('off')  # Hide axes\n",
        "\n",
        "      axes[1].imshow(image_np_perturbed)\n",
        "      axes[1].axis('off')  # Hide axes\n",
        "\n",
        "      plt.show()\n",
        "\n",
        "      break"
      ],
      "metadata": {
        "colab": {
          "base_uri": "https://localhost:8080/",
          "height": 406
        },
        "id": "9Y8BV_OqCtlq",
        "outputId": "44610f32-1a82-4f32-cac0-59ebf7d2b35c"
      },
      "execution_count": 24,
      "outputs": [
        {
          "output_type": "stream",
          "name": "stderr",
          "text": [
            "WARNING:matplotlib.image:Clipping input data to the valid range for imshow with RGB data ([0..1] for floats or [0..255] for integers).\n"
          ]
        },
        {
          "output_type": "display_data",
          "data": {
            "text/plain": [
              "<Figure size 1000x500 with 2 Axes>"
            ],
            "image/png": "[encoded data removed]"
          },
          "metadata": {}
        }
      ]
    },
    {
      "cell_type": "markdown",
      "metadata": {
        "id": "cWcssuhM-f2W"
      },
      "source": [
        "We can see that data augmentation improved the accuracy of the model significantly, up to 70% on my best run. However, the accuracy on the adversarial set only increased slightly, up to 31%.\n",
        "\n",
        "(I didn't use different hyperparameters, I just reran the model with different random initializations.)\n",
        "\n",
        "This model uses many linear layers, which may make it prone to overfitting. I also tried using a fully convolutional network but was unable to get sufficient accuracy on the validation set to justify analyzing the model (my max accuracy was only 55%). For reference, I have included the model that I was using below."
      ]
    },
    {
      "cell_type": "code",
      "execution_count": null,
      "metadata": {
        "id": "gelyQXOx-fDP"
      },
      "outputs": [],
      "source": [
        "class FullyConvolutionalNetwork(nn.Module):\n",
        "  def __init__(self):\n",
        "    super().__init__()\n",
        "    self.nn = nn.Sequential(\n",
        "      # use 5 convolution layers and 1 linear layer\n",
        "      nn.Conv2d(3, 16, 3, padding=1),\n",
        "      nn.BatchNorm2d(16),\n",
        "      nn.ReLU(),\n",
        "      nn.MaxPool2d(2, stride=2),\n",
        "\n",
        "      nn.Conv2d(16, 32, 3, padding=1),\n",
        "      nn.BatchNorm2d(32),\n",
        "      nn.ReLU(),\n",
        "      nn.MaxPool2d(2, stride=2),\n",
        "\n",
        "      nn.Conv2d(32, 64, 3, padding=1),\n",
        "      nn.BatchNorm2d(64),\n",
        "      nn.ReLU(),\n",
        "      nn.MaxPool2d(2, stride=2),\n",
        "\n",
        "      nn.Conv2d(64, 128, 3, padding=1),\n",
        "      nn.BatchNorm2d(128),\n",
        "      nn.ReLU(),\n",
        "      nn.MaxPool2d(2, stride=2),\n",
        "\n",
        "      nn.Conv2d(128, 128, 3, padding=1),\n",
        "      nn.BatchNorm2d(128),\n",
        "      nn.ReLU(),\n",
        "      nn.MaxPool2d(2, stride=2),\n",
        "\n",
        "      nn.Flatten(),\n",
        "\n",
        "      nn.Linear(128, 10),\n",
        "      nn.ReLU(),\n",
        "    )\n",
        "\n",
        "  def forward(self, x):\n",
        "    return self.nn.forward(x)"
      ]
    },
    {
      "cell_type": "markdown",
      "metadata": {
        "id": "2xX1bPCPIecA"
      },
      "source": [
        "As a final comparison, let's see if a pretrained ResNet is also vulnerable to this attack:"
      ]
    },
    {
      "cell_type": "code",
      "execution_count": null,
      "metadata": {
        "id": "qu0KAbt8CvSm"
      },
      "outputs": [],
      "source": [
        "class ResNetModel(nn.Module):\n",
        "  def __init__(self):\n",
        "    super().__init__()\n",
        "\n",
        "    self.nn = nn.Sequential(\n",
        "        resnet18(pretrained=True),\n",
        "        nn.Linear(1000, 10),\n",
        "    )\n",
        "\n",
        "  def forward(self, x):\n",
        "    return self.nn.forward(x)"
      ]
    },
    {
      "cell_type": "code",
      "execution_count": null,
      "metadata": {
        "colab": {
          "base_uri": "https://localhost:8080/"
        },
        "id": "JEmifJ1iJF5f",
        "outputId": "c3e7efe8-7ebb-4195-e6ca-de0e6914077e"
      },
      "outputs": [
        {
          "output_type": "stream",
          "name": "stderr",
          "text": [
            "/usr/local/lib/python3.10/dist-packages/torchvision/models/_utils.py:208: UserWarning: The parameter 'pretrained' is deprecated since 0.13 and may be removed in the future, please use 'weights' instead.\n",
            "  warnings.warn(\n",
            "/usr/local/lib/python3.10/dist-packages/torchvision/models/_utils.py:223: UserWarning: Arguments other than a weight enum or `None` for 'weights' are deprecated since 0.13 and may be removed in the future. The current behavior is equivalent to passing `weights=ResNet18_Weights.IMAGENET1K_V1`. You can also use `weights=ResNet18_Weights.DEFAULT` to get the most up-to-date weights.\n",
            "  warnings.warn(msg)\n"
          ]
        },
        {
          "output_type": "stream",
          "name": "stdout",
          "text": [
            "Epoch 0, Step 0, Loss 3.4287\n",
            "Epoch 0, Step 700, Loss 0.7794\n"
          ]
        },
        {
          "output_type": "stream",
          "name": "stderr",
          "text": [
            "100%|██████████| 157/157 [00:01<00:00, 82.47it/s]\n"
          ]
        },
        {
          "output_type": "stream",
          "name": "stdout",
          "text": [
            "Epoch 0, Valid Accuracy 71.96%\n"
          ]
        },
        {
          "output_type": "stream",
          "name": "stderr",
          "text": [
            "100%|██████████| 782/782 [00:11<00:00, 66.26it/s]\n"
          ]
        },
        {
          "output_type": "stream",
          "name": "stdout",
          "text": [
            "Epoch 0, Train Accuracy 75.23%\n",
            "Epoch 1, Step 0, Loss 0.8054\n",
            "Epoch 1, Step 700, Loss 0.5747\n"
          ]
        },
        {
          "output_type": "stream",
          "name": "stderr",
          "text": [
            "100%|██████████| 157/157 [00:01<00:00, 82.53it/s]\n"
          ]
        },
        {
          "output_type": "stream",
          "name": "stdout",
          "text": [
            "Epoch 1, Valid Accuracy 75.28%\n"
          ]
        },
        {
          "output_type": "stream",
          "name": "stderr",
          "text": [
            "100%|██████████| 782/782 [00:12<00:00, 63.05it/s]\n"
          ]
        },
        {
          "output_type": "stream",
          "name": "stdout",
          "text": [
            "Epoch 1, Train Accuracy 81.02%\n",
            "Epoch 2, Step 0, Loss 0.5489\n",
            "Epoch 2, Step 700, Loss 0.4944\n"
          ]
        },
        {
          "output_type": "stream",
          "name": "stderr",
          "text": [
            "100%|██████████| 157/157 [00:02<00:00, 76.07it/s]\n"
          ]
        },
        {
          "output_type": "stream",
          "name": "stdout",
          "text": [
            "Epoch 2, Valid Accuracy 79.82%\n"
          ]
        },
        {
          "output_type": "stream",
          "name": "stderr",
          "text": [
            "100%|██████████| 782/782 [00:11<00:00, 66.23it/s]\n"
          ]
        },
        {
          "output_type": "stream",
          "name": "stdout",
          "text": [
            "Epoch 2, Train Accuracy 87.82%\n",
            "Epoch 3, Step 0, Loss 0.3944\n",
            "Epoch 3, Step 700, Loss 0.2531\n"
          ]
        },
        {
          "output_type": "stream",
          "name": "stderr",
          "text": [
            "100%|██████████| 157/157 [00:02<00:00, 61.58it/s]\n"
          ]
        },
        {
          "output_type": "stream",
          "name": "stdout",
          "text": [
            "Epoch 3, Valid Accuracy 76.39%\n"
          ]
        },
        {
          "output_type": "stream",
          "name": "stderr",
          "text": [
            "100%|██████████| 782/782 [00:11<00:00, 68.58it/s]\n"
          ]
        },
        {
          "output_type": "stream",
          "name": "stdout",
          "text": [
            "Epoch 3, Train Accuracy 85.32%\n",
            "Epoch 4, Step 0, Loss 0.3545\n",
            "Epoch 4, Step 700, Loss 0.2827\n"
          ]
        },
        {
          "output_type": "stream",
          "name": "stderr",
          "text": [
            "100%|██████████| 157/157 [00:02<00:00, 63.64it/s]\n"
          ]
        },
        {
          "output_type": "stream",
          "name": "stdout",
          "text": [
            "Epoch 4, Valid Accuracy 80.75%\n"
          ]
        },
        {
          "output_type": "stream",
          "name": "stderr",
          "text": [
            "100%|██████████| 782/782 [00:11<00:00, 68.25it/s]\n"
          ]
        },
        {
          "output_type": "stream",
          "name": "stdout",
          "text": [
            "Epoch 4, Train Accuracy 93.48%\n",
            "Epoch 5, Step 0, Loss 0.3886\n",
            "Epoch 5, Step 700, Loss 0.3330\n"
          ]
        },
        {
          "output_type": "stream",
          "name": "stderr",
          "text": [
            "100%|██████████| 157/157 [00:01<00:00, 81.99it/s]\n"
          ]
        },
        {
          "output_type": "stream",
          "name": "stdout",
          "text": [
            "Epoch 5, Valid Accuracy 81.31%\n"
          ]
        },
        {
          "output_type": "stream",
          "name": "stderr",
          "text": [
            "100%|██████████| 782/782 [00:11<00:00, 67.37it/s]\n"
          ]
        },
        {
          "output_type": "stream",
          "name": "stdout",
          "text": [
            "Epoch 5, Train Accuracy 95.86%\n",
            "Epoch 6, Step 0, Loss 0.0958\n",
            "Epoch 6, Step 700, Loss 0.2253\n"
          ]
        },
        {
          "output_type": "stream",
          "name": "stderr",
          "text": [
            "100%|██████████| 157/157 [00:01<00:00, 81.85it/s]\n"
          ]
        },
        {
          "output_type": "stream",
          "name": "stdout",
          "text": [
            "Epoch 6, Valid Accuracy 79.57%\n"
          ]
        },
        {
          "output_type": "stream",
          "name": "stderr",
          "text": [
            "100%|██████████| 782/782 [00:11<00:00, 67.44it/s]\n"
          ]
        },
        {
          "output_type": "stream",
          "name": "stdout",
          "text": [
            "Epoch 6, Train Accuracy 96.03%\n",
            "Epoch 7, Step 0, Loss 0.0373\n",
            "Epoch 7, Step 700, Loss 0.1180\n"
          ]
        },
        {
          "output_type": "stream",
          "name": "stderr",
          "text": [
            "100%|██████████| 157/157 [00:01<00:00, 78.70it/s]\n"
          ]
        },
        {
          "output_type": "stream",
          "name": "stdout",
          "text": [
            "Epoch 7, Valid Accuracy 79.36%\n"
          ]
        },
        {
          "output_type": "stream",
          "name": "stderr",
          "text": [
            "100%|██████████| 782/782 [00:11<00:00, 66.92it/s]\n"
          ]
        },
        {
          "output_type": "stream",
          "name": "stdout",
          "text": [
            "Epoch 7, Train Accuracy 95.82%\n",
            "Epoch 8, Step 0, Loss 0.0612\n",
            "Epoch 8, Step 700, Loss 0.0711\n"
          ]
        },
        {
          "output_type": "stream",
          "name": "stderr",
          "text": [
            "100%|██████████| 157/157 [00:01<00:00, 82.21it/s]\n"
          ]
        },
        {
          "output_type": "stream",
          "name": "stdout",
          "text": [
            "Epoch 8, Valid Accuracy 81.77%\n"
          ]
        },
        {
          "output_type": "stream",
          "name": "stderr",
          "text": [
            "100%|██████████| 782/782 [00:11<00:00, 66.89it/s]\n"
          ]
        },
        {
          "output_type": "stream",
          "name": "stdout",
          "text": [
            "Epoch 8, Train Accuracy 98.55%\n",
            "Epoch 9, Step 0, Loss 0.0345\n",
            "Epoch 9, Step 700, Loss 0.0418\n"
          ]
        },
        {
          "output_type": "stream",
          "name": "stderr",
          "text": [
            "100%|██████████| 157/157 [00:01<00:00, 82.84it/s]\n"
          ]
        },
        {
          "output_type": "stream",
          "name": "stdout",
          "text": [
            "Epoch 9, Valid Accuracy 81.85%\n"
          ]
        },
        {
          "output_type": "stream",
          "name": "stderr",
          "text": [
            "100%|██████████| 782/782 [00:11<00:00, 66.61it/s]\n"
          ]
        },
        {
          "output_type": "stream",
          "name": "stdout",
          "text": [
            "Epoch 9, Train Accuracy 99.27%\n",
            "Adversarial robustness:  0.32264\n"
          ]
        }
      ],
      "source": [
        "# setup and train the neural network\n",
        "model_resnet = ResNetModel().to(device)\n",
        "\n",
        "lr = 1e-3\n",
        "gamma = 0.9\n",
        "num_epoch = 10\n",
        "\n",
        "optimizer = torch.optim.Adam(model_resnet.parameters(), lr=lr)\n",
        "scheduler = torch.optim.lr_scheduler.StepLR(optimizer, step_size=1, gamma=gamma)\n",
        "\n",
        "train(model_resnet, num_epoch, optimizer, scheduler)\n",
        "evaluate_adversarial_attack(model_resnet, fgsm, eps=0.01)"
      ]
    },
    {
      "cell_type": "markdown",
      "source": [
        "I also tried an augmented ResNet, but the performance in terms of accuracy or robustness did not change, while the training cost went up by 3x.\n",
        "\n",
        "As we can see, even ResNet is vulnerable to the FGSM attack. We will now look at a defense that will make the model more resilient, without changing the underlying architecture.\n",
        "\n",
        "In order to accomplish this, we can't simply add the adversarial set to the list of transforms. As we have already seen, adding transforms such as crop or color jitter does not increase the model robustness. Instead, we will update the loss function. Instead of computing L(x), where x is the training example, we will compute L(x'), where x' is the worst adversarial example we can find in the $L_\\infty$ ball centered at the original image.\n",
        "\n",
        "(I have already included this code in the training function above, feel free to refer back to it to view the code.)\n",
        "\n",
        "Let's now run this adversarial training on our simple CNN and see how the results compare."
      ],
      "metadata": {
        "id": "iSsf0jG4uDUJ"
      }
    },
    {
      "cell_type": "code",
      "source": [
        "model_normal_resilient = CNN().to(device)\n",
        "lr = 1e-3\n",
        "gamma = 0.9\n",
        "num_epoch = 10\n",
        "\n",
        "optimizer = torch.optim.Adam(model_normal_resilient.parameters(), lr=lr)\n",
        "scheduler = torch.optim.lr_scheduler.StepLR(optimizer, step_size=1, gamma=gamma)\n",
        "\n",
        "train(model_normal_resilient, num_epoch, optimizer, scheduler, augment=True, attack_fn=fgsm, eps=0.01)\n",
        "evaluate_adversarial_attack(model_normal_resilient, fgsm, eps=0.01)"
      ],
      "metadata": {
        "colab": {
          "base_uri": "https://localhost:8080/"
        },
        "id": "zCegw_h-bgV7",
        "outputId": "5814e7f6-89a3-4853-e1c5-46ed0a5634df"
      },
      "execution_count": null,
      "outputs": [
        {
          "output_type": "stream",
          "name": "stdout",
          "text": [
            "Epoch 0, Step 0, Loss 2.3102\n",
            "Epoch 0, Step 700, Loss 2.0449\n"
          ]
        },
        {
          "output_type": "stream",
          "name": "stderr",
          "text": [
            "100%|██████████| 157/157 [00:01<00:00, 109.44it/s]\n"
          ]
        },
        {
          "output_type": "stream",
          "name": "stdout",
          "text": [
            "Epoch 0, Valid Accuracy 42.65%\n"
          ]
        },
        {
          "output_type": "stream",
          "name": "stderr",
          "text": [
            "100%|██████████| 782/782 [00:07<00:00, 103.50it/s]\n"
          ]
        },
        {
          "output_type": "stream",
          "name": "stdout",
          "text": [
            "Epoch 0, Train Accuracy 42.78%\n",
            "Epoch 1, Step 0, Loss 1.9153\n",
            "Epoch 1, Step 700, Loss 1.8754\n"
          ]
        },
        {
          "output_type": "stream",
          "name": "stderr",
          "text": [
            "100%|██████████| 157/157 [00:01<00:00, 109.03it/s]\n"
          ]
        },
        {
          "output_type": "stream",
          "name": "stdout",
          "text": [
            "Epoch 1, Valid Accuracy 49.58%\n"
          ]
        },
        {
          "output_type": "stream",
          "name": "stderr",
          "text": [
            "100%|██████████| 782/782 [00:08<00:00, 91.87it/s]\n"
          ]
        },
        {
          "output_type": "stream",
          "name": "stdout",
          "text": [
            "Epoch 1, Train Accuracy 50.11%\n",
            "Epoch 2, Step 0, Loss 1.8666\n",
            "Epoch 2, Step 700, Loss 1.5932\n"
          ]
        },
        {
          "output_type": "stream",
          "name": "stderr",
          "text": [
            "100%|██████████| 157/157 [00:01<00:00, 81.25it/s]\n"
          ]
        },
        {
          "output_type": "stream",
          "name": "stdout",
          "text": [
            "Epoch 2, Valid Accuracy 51.88%\n"
          ]
        },
        {
          "output_type": "stream",
          "name": "stderr",
          "text": [
            "100%|██████████| 782/782 [00:07<00:00, 108.04it/s]\n"
          ]
        },
        {
          "output_type": "stream",
          "name": "stdout",
          "text": [
            "Epoch 2, Train Accuracy 52.65%\n",
            "Epoch 3, Step 0, Loss 1.8251\n",
            "Epoch 3, Step 700, Loss 1.8373\n"
          ]
        },
        {
          "output_type": "stream",
          "name": "stderr",
          "text": [
            "100%|██████████| 157/157 [00:01<00:00, 107.39it/s]\n"
          ]
        },
        {
          "output_type": "stream",
          "name": "stdout",
          "text": [
            "Epoch 3, Valid Accuracy 54.23%\n"
          ]
        },
        {
          "output_type": "stream",
          "name": "stderr",
          "text": [
            "100%|██████████| 782/782 [00:08<00:00, 97.32it/s]\n"
          ]
        },
        {
          "output_type": "stream",
          "name": "stdout",
          "text": [
            "Epoch 3, Train Accuracy 55.17%\n",
            "Epoch 4, Step 0, Loss 1.7776\n",
            "Epoch 4, Step 700, Loss 1.8425\n"
          ]
        },
        {
          "output_type": "stream",
          "name": "stderr",
          "text": [
            "100%|██████████| 157/157 [00:01<00:00, 109.86it/s]\n"
          ]
        },
        {
          "output_type": "stream",
          "name": "stdout",
          "text": [
            "Epoch 4, Valid Accuracy 53.92%\n"
          ]
        },
        {
          "output_type": "stream",
          "name": "stderr",
          "text": [
            "100%|██████████| 782/782 [00:08<00:00, 94.64it/s] \n"
          ]
        },
        {
          "output_type": "stream",
          "name": "stdout",
          "text": [
            "Epoch 4, Train Accuracy 54.93%\n",
            "Epoch 5, Step 0, Loss 1.9446\n",
            "Epoch 5, Step 700, Loss 1.9539\n"
          ]
        },
        {
          "output_type": "stream",
          "name": "stderr",
          "text": [
            "100%|██████████| 157/157 [00:02<00:00, 78.23it/s]\n"
          ]
        },
        {
          "output_type": "stream",
          "name": "stdout",
          "text": [
            "Epoch 5, Valid Accuracy 57.29%\n"
          ]
        },
        {
          "output_type": "stream",
          "name": "stderr",
          "text": [
            "100%|██████████| 782/782 [00:07<00:00, 105.11it/s]\n"
          ]
        },
        {
          "output_type": "stream",
          "name": "stdout",
          "text": [
            "Epoch 5, Train Accuracy 58.22%\n",
            "Epoch 6, Step 0, Loss 1.5566\n",
            "Epoch 6, Step 700, Loss 1.8571\n"
          ]
        },
        {
          "output_type": "stream",
          "name": "stderr",
          "text": [
            "100%|██████████| 157/157 [00:01<00:00, 111.17it/s]\n"
          ]
        },
        {
          "output_type": "stream",
          "name": "stdout",
          "text": [
            "Epoch 6, Valid Accuracy 57.69%\n"
          ]
        },
        {
          "output_type": "stream",
          "name": "stderr",
          "text": [
            "100%|██████████| 782/782 [00:08<00:00, 97.45it/s]\n"
          ]
        },
        {
          "output_type": "stream",
          "name": "stdout",
          "text": [
            "Epoch 6, Train Accuracy 59.20%\n",
            "Epoch 7, Step 0, Loss 1.4711\n",
            "Epoch 7, Step 700, Loss 1.6363\n"
          ]
        },
        {
          "output_type": "stream",
          "name": "stderr",
          "text": [
            "100%|██████████| 157/157 [00:01<00:00, 100.57it/s]\n"
          ]
        },
        {
          "output_type": "stream",
          "name": "stdout",
          "text": [
            "Epoch 7, Valid Accuracy 59.43%\n"
          ]
        },
        {
          "output_type": "stream",
          "name": "stderr",
          "text": [
            "100%|██████████| 782/782 [00:08<00:00, 95.62it/s] \n"
          ]
        },
        {
          "output_type": "stream",
          "name": "stdout",
          "text": [
            "Epoch 7, Train Accuracy 60.55%\n",
            "Epoch 8, Step 0, Loss 1.7192\n",
            "Epoch 8, Step 700, Loss 1.4698\n"
          ]
        },
        {
          "output_type": "stream",
          "name": "stderr",
          "text": [
            "100%|██████████| 157/157 [00:01<00:00, 97.01it/s] \n"
          ]
        },
        {
          "output_type": "stream",
          "name": "stdout",
          "text": [
            "Epoch 8, Valid Accuracy 59.40%\n"
          ]
        },
        {
          "output_type": "stream",
          "name": "stderr",
          "text": [
            "100%|██████████| 782/782 [00:07<00:00, 103.27it/s]\n"
          ]
        },
        {
          "output_type": "stream",
          "name": "stdout",
          "text": [
            "Epoch 8, Train Accuracy 60.67%\n",
            "Epoch 9, Step 0, Loss 1.6812\n",
            "Epoch 9, Step 700, Loss 1.6688\n"
          ]
        },
        {
          "output_type": "stream",
          "name": "stderr",
          "text": [
            "100%|██████████| 157/157 [00:01<00:00, 108.28it/s]\n"
          ]
        },
        {
          "output_type": "stream",
          "name": "stdout",
          "text": [
            "Epoch 9, Valid Accuracy 60.13%\n"
          ]
        },
        {
          "output_type": "stream",
          "name": "stderr",
          "text": [
            "100%|██████████| 782/782 [00:08<00:00, 93.61it/s] \n"
          ]
        },
        {
          "output_type": "stream",
          "name": "stdout",
          "text": [
            "Epoch 9, Train Accuracy 61.66%\n",
            "Adversarial robustness:  0.46318\n"
          ]
        }
      ]
    },
    {
      "cell_type": "markdown",
      "source": [
        "Using the adversarial training, we see an accuracy of 60%, which is somewhat lower than the previously observed 70%. We also notice that the robustness jumps from 30% to 46%, which is a large improvement.\n",
        "\n",
        "Let's run the same adversarial training method on our ResNet to see if we get similar results."
      ],
      "metadata": {
        "id": "yQ5w6KzI0sG_"
      }
    },
    {
      "cell_type": "code",
      "source": [
        "# setup and train the neural network\n",
        "model_resnet_resilient = ResNetModel().to(device)\n",
        "\n",
        "lr = 1e-3\n",
        "gamma = 0.9\n",
        "num_epoch = 10\n",
        "\n",
        "optimizer = torch.optim.Adam(model_resnet_resilient.parameters(), lr=lr)\n",
        "scheduler = torch.optim.lr_scheduler.StepLR(optimizer, step_size=1, gamma=gamma)\n",
        "\n",
        "train(model_resnet_resilient, num_epoch, optimizer, scheduler, attack_fn=fgsm, eps=0.01)\n",
        "evaluate_adversarial_attack(model_resnet_resilient, fgsm, eps=0.01)"
      ],
      "metadata": {
        "colab": {
          "base_uri": "https://localhost:8080/"
        },
        "id": "712xjvIS3Kgd",
        "outputId": "beafcba1-9be9-4d2d-b57f-1a0ce5b1cf2f"
      },
      "execution_count": null,
      "outputs": [
        {
          "output_type": "stream",
          "name": "stdout",
          "text": [
            "Epoch 0, Step 0, Loss 3.4566\n",
            "Epoch 0, Step 700, Loss 1.4503\n"
          ]
        },
        {
          "output_type": "stream",
          "name": "stderr",
          "text": [
            "100%|██████████| 157/157 [00:02<00:00, 66.12it/s]\n"
          ]
        },
        {
          "output_type": "stream",
          "name": "stdout",
          "text": [
            "Epoch 0, Valid Accuracy 63.47%\n"
          ]
        },
        {
          "output_type": "stream",
          "name": "stderr",
          "text": [
            "100%|██████████| 782/782 [00:11<00:00, 66.79it/s]\n"
          ]
        },
        {
          "output_type": "stream",
          "name": "stdout",
          "text": [
            "Epoch 0, Train Accuracy 64.46%\n",
            "Epoch 1, Step 0, Loss 1.3081\n",
            "Epoch 1, Step 700, Loss 1.3018\n"
          ]
        },
        {
          "output_type": "stream",
          "name": "stderr",
          "text": [
            "100%|██████████| 157/157 [00:01<00:00, 81.07it/s]\n"
          ]
        },
        {
          "output_type": "stream",
          "name": "stdout",
          "text": [
            "Epoch 1, Valid Accuracy 63.29%\n"
          ]
        },
        {
          "output_type": "stream",
          "name": "stderr",
          "text": [
            "100%|██████████| 782/782 [00:11<00:00, 65.95it/s]\n"
          ]
        },
        {
          "output_type": "stream",
          "name": "stdout",
          "text": [
            "Epoch 1, Train Accuracy 65.30%\n",
            "Epoch 2, Step 0, Loss 1.3194\n",
            "Epoch 2, Step 700, Loss 1.2622\n"
          ]
        },
        {
          "output_type": "stream",
          "name": "stderr",
          "text": [
            "100%|██████████| 157/157 [00:01<00:00, 81.86it/s]\n"
          ]
        },
        {
          "output_type": "stream",
          "name": "stdout",
          "text": [
            "Epoch 2, Valid Accuracy 55.69%\n"
          ]
        },
        {
          "output_type": "stream",
          "name": "stderr",
          "text": [
            "100%|██████████| 782/782 [00:11<00:00, 66.79it/s]\n"
          ]
        },
        {
          "output_type": "stream",
          "name": "stdout",
          "text": [
            "Epoch 2, Train Accuracy 59.26%\n",
            "Epoch 3, Step 0, Loss 1.1126\n",
            "Epoch 3, Step 700, Loss 1.1906\n"
          ]
        },
        {
          "output_type": "stream",
          "name": "stderr",
          "text": [
            "100%|██████████| 157/157 [00:01<00:00, 82.32it/s]\n"
          ]
        },
        {
          "output_type": "stream",
          "name": "stdout",
          "text": [
            "Epoch 3, Valid Accuracy 68.80%\n"
          ]
        },
        {
          "output_type": "stream",
          "name": "stderr",
          "text": [
            "100%|██████████| 782/782 [00:11<00:00, 67.30it/s]\n"
          ]
        },
        {
          "output_type": "stream",
          "name": "stdout",
          "text": [
            "Epoch 3, Train Accuracy 71.80%\n",
            "Epoch 4, Step 0, Loss 1.0534\n",
            "Epoch 4, Step 700, Loss 1.3386\n"
          ]
        },
        {
          "output_type": "stream",
          "name": "stderr",
          "text": [
            "100%|██████████| 157/157 [00:01<00:00, 78.62it/s]\n"
          ]
        },
        {
          "output_type": "stream",
          "name": "stdout",
          "text": [
            "Epoch 4, Valid Accuracy 67.68%\n"
          ]
        },
        {
          "output_type": "stream",
          "name": "stderr",
          "text": [
            "100%|██████████| 782/782 [00:11<00:00, 68.10it/s]\n"
          ]
        },
        {
          "output_type": "stream",
          "name": "stdout",
          "text": [
            "Epoch 4, Train Accuracy 71.51%\n",
            "Epoch 5, Step 0, Loss 1.1309\n",
            "Epoch 5, Step 700, Loss 1.0912\n"
          ]
        },
        {
          "output_type": "stream",
          "name": "stderr",
          "text": [
            "100%|██████████| 157/157 [00:02<00:00, 59.55it/s]\n"
          ]
        },
        {
          "output_type": "stream",
          "name": "stdout",
          "text": [
            "Epoch 5, Valid Accuracy 64.97%\n"
          ]
        },
        {
          "output_type": "stream",
          "name": "stderr",
          "text": [
            "100%|██████████| 782/782 [00:11<00:00, 67.69it/s]\n"
          ]
        },
        {
          "output_type": "stream",
          "name": "stdout",
          "text": [
            "Epoch 5, Train Accuracy 68.20%\n",
            "Epoch 6, Step 0, Loss 1.1070\n",
            "Epoch 6, Step 700, Loss 1.0707\n"
          ]
        },
        {
          "output_type": "stream",
          "name": "stderr",
          "text": [
            "100%|██████████| 157/157 [00:02<00:00, 65.01it/s]\n"
          ]
        },
        {
          "output_type": "stream",
          "name": "stdout",
          "text": [
            "Epoch 6, Valid Accuracy 68.47%\n"
          ]
        },
        {
          "output_type": "stream",
          "name": "stderr",
          "text": [
            "100%|██████████| 782/782 [00:11<00:00, 67.68it/s]\n"
          ]
        },
        {
          "output_type": "stream",
          "name": "stdout",
          "text": [
            "Epoch 6, Train Accuracy 73.27%\n",
            "Epoch 7, Step 0, Loss 1.2581\n",
            "Epoch 7, Step 700, Loss 1.2523\n"
          ]
        },
        {
          "output_type": "stream",
          "name": "stderr",
          "text": [
            "100%|██████████| 157/157 [00:01<00:00, 79.51it/s]\n"
          ]
        },
        {
          "output_type": "stream",
          "name": "stdout",
          "text": [
            "Epoch 7, Valid Accuracy 66.40%\n"
          ]
        },
        {
          "output_type": "stream",
          "name": "stderr",
          "text": [
            "100%|██████████| 782/782 [00:11<00:00, 66.22it/s]\n"
          ]
        },
        {
          "output_type": "stream",
          "name": "stdout",
          "text": [
            "Epoch 7, Train Accuracy 70.92%\n",
            "Epoch 8, Step 0, Loss 1.2568\n",
            "Epoch 8, Step 700, Loss 1.0830\n"
          ]
        },
        {
          "output_type": "stream",
          "name": "stderr",
          "text": [
            "100%|██████████| 157/157 [00:01<00:00, 81.53it/s]\n"
          ]
        },
        {
          "output_type": "stream",
          "name": "stdout",
          "text": [
            "Epoch 8, Valid Accuracy 63.62%\n"
          ]
        },
        {
          "output_type": "stream",
          "name": "stderr",
          "text": [
            "100%|██████████| 782/782 [00:11<00:00, 66.75it/s]\n"
          ]
        },
        {
          "output_type": "stream",
          "name": "stdout",
          "text": [
            "Epoch 8, Train Accuracy 67.72%\n",
            "Epoch 9, Step 0, Loss 1.2566\n",
            "Epoch 9, Step 700, Loss 1.1183\n"
          ]
        },
        {
          "output_type": "stream",
          "name": "stderr",
          "text": [
            "100%|██████████| 157/157 [00:01<00:00, 80.96it/s]\n"
          ]
        },
        {
          "output_type": "stream",
          "name": "stdout",
          "text": [
            "Epoch 9, Valid Accuracy 66.52%\n"
          ]
        },
        {
          "output_type": "stream",
          "name": "stderr",
          "text": [
            "100%|██████████| 782/782 [00:12<00:00, 65.01it/s]\n"
          ]
        },
        {
          "output_type": "stream",
          "name": "stdout",
          "text": [
            "Epoch 9, Train Accuracy 71.08%\n",
            "Adversarial robustness:  0.50418\n"
          ]
        }
      ]
    },
    {
      "cell_type": "markdown",
      "source": [
        "As we can see, getting the ResNet to train using adversarial training leads to lower results in terms of accuracy, as the entire network itself needs to be significantly changed to be more robust.\n",
        "\n",
        "The results we have seen so far also have the following two issues:\n",
        "- After using adversarial training, we are only getting about 50% robustness, which is very low compared to our desired value.\n",
        "\n",
        "To combatthis issue, we will use adversarial training with a stronger attack known as PGD. This attack performs FGSM iteratively, while clipping the result at eash iteration to stay within the $L_\\infty$ ball of the original input. Using this, we should be able to get more robust models, and better adversarial examples on models without proper defenses."
      ],
      "metadata": {
        "id": "-txFKyV-3P5n"
      }
    },
    {
      "cell_type": "code",
      "execution_count": null,
      "metadata": {
        "id": "dtLuxt5KtEyf"
      },
      "outputs": [],
      "source": [
        "# Ensure we remain within the L-inf ball of the original image.\n",
        "# This is not needed for FGSM as it only takes a single step, and the magnitude of the step is at most epsilon.\n",
        "def clip(x, x_baseline, eps):\n",
        "    x = torch.minimum(x, x_baseline + eps)\n",
        "    x = torch.maximum(x, x_baseline - eps)\n",
        "    return x\n",
        "\n",
        "def pgd_untargeted(model, x, labels, eps, targeted=False, k=5):\n",
        "    # No targeted version was implemented, since it is not needed to make the model robust\n",
        "    fgsm_in = x.clone().detach()\n",
        "    fgsm_in.requires_grad_()\n",
        "    for i in range(k):\n",
        "      # Apply FGSM over k iterations to see if we can get a more adversarial image\n",
        "      perturb = fgsm(model, fgsm_in, labels, eps, False)\n",
        "      fgsm_in = clip(perturb, x, eps)\n",
        "    return fgsm_in"
      ]
    },
    {
      "cell_type": "code",
      "source": [
        "evaluate_adversarial_attack(model_normal_augmented, pgd_untargeted, eps=0.01)\n",
        "evaluate_adversarial_attack(model_resnet, pgd_untargeted, eps=0.01)"
      ],
      "metadata": {
        "colab": {
          "base_uri": "https://localhost:8080/"
        },
        "id": "vm7Tqc8I47kx",
        "outputId": "d934aad2-c77e-44f5-82f7-7d63fbe9b472"
      },
      "execution_count": null,
      "outputs": [
        {
          "output_type": "stream",
          "name": "stdout",
          "text": [
            "Adversarial robustness:  0.26618\n",
            "Adversarial robustness:  0.15744\n"
          ]
        }
      ]
    },
    {
      "cell_type": "markdown",
      "source": [
        "As we can see, the robustness does down when we attack the model using PGD. This effect is especially noticeable for ResNet.\n",
        "As a final test, let's see if the adversarially trained models generalize and are resilient against the PGD attack on the same $ϵ$."
      ],
      "metadata": {
        "id": "zme1a2CptkdI"
      }
    },
    {
      "cell_type": "code",
      "source": [
        "evaluate_adversarial_attack(model_normal_resilient, pgd_untargeted, eps=0.01)\n",
        "evaluate_adversarial_attack(model_resnet_resilient, pgd_untargeted, eps=0.01)"
      ],
      "metadata": {
        "colab": {
          "base_uri": "https://localhost:8080/"
        },
        "id": "xzvQmyriAJIq",
        "outputId": "55835b4d-0133-4eb7-ea34-1a3e11beafbc"
      },
      "execution_count": null,
      "outputs": [
        {
          "output_type": "stream",
          "name": "stdout",
          "text": [
            "Adversarial robustness:  0.44676\n",
            "Adversarial robustness:  0.48548\n"
          ]
        }
      ]
    },
    {
      "cell_type": "markdown",
      "source": [
        "In this specific case, robustness remains quite high even against the PGD attack. However, this is not true in the general case.\n",
        "\n",
        "In practice, it has been shown that networks that are adversarially trained against PGD are robust against most common attacks, while networks trained on FGSM are not. However, even PGD networks are not provably robust.\n",
        "\n",
        "We have also not shown that our training method is robust on real data, but only on the training set. In practice, results on adversarial robustness tend to generalize, although this is not always the case."
      ],
      "metadata": {
        "id": "FjpVGSKr_Zl2"
      }
    }
  ],
  "metadata": {
    "accelerator": "GPU",
    "colab": {
      "provenance": [],
      "gpuType": "T4"
    },
    "kernelspec": {
      "display_name": "Python 3",
      "name": "python3"
    },
    "language_info": {
      "name": "python"
    }
  },
  "nbformat": 4,
  "nbformat_minor": 0
}